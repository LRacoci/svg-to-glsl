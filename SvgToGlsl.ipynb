{
  "nbformat": 4,
  "nbformat_minor": 0,
  "metadata": {
    "colab": {
      "name": "SvgToGlsl.ipynb",
      "provenance": [],
      "authorship_tag": "ABX9TyPh6MOjabIi5atMonhodx1D",
      "include_colab_link": true
    },
    "kernelspec": {
      "name": "python3",
      "display_name": "Python 3"
    },
    "language_info": {
      "name": "python"
    }
  },
  "cells": [
    {
      "cell_type": "markdown",
      "metadata": {
        "id": "view-in-github",
        "colab_type": "text"
      },
      "source": [
        "<a href=\"https://colab.research.google.com/github/LRacoci/svg-to-glsl/blob/main/SvgToGlsl.ipynb\" target=\"_parent\"><img src=\"https://colab.research.google.com/assets/colab-badge.svg\" alt=\"Open In Colab\"/></a>"
      ]
    },
    {
      "cell_type": "code",
      "metadata": {
        "colab": {
          "base_uri": "https://localhost:8080/"
        },
        "id": "Me55gWmmg4jE",
        "outputId": "613de71e-d9fe-4e4d-d5e8-ee0ebce2d8d1"
      },
      "source": [
        "!pip install svg.path"
      ],
      "execution_count": 1,
      "outputs": [
        {
          "output_type": "stream",
          "name": "stdout",
          "text": [
            "Collecting svg.path\n",
            "  Downloading svg.path-4.1-py2.py3-none-any.whl (21 kB)\n",
            "Installing collected packages: svg.path\n",
            "Successfully installed svg.path-4.1\n"
          ]
        }
      ]
    },
    {
      "cell_type": "code",
      "metadata": {
        "id": "PhNdEE0VCJhI"
      },
      "source": [
        "import urllib.request\n",
        "from xml.dom import minidom\n",
        "url = \"https://docs.manim.community/en/v0.1.1/_static/manim-logo-sidebar.svg\"\n",
        "\n",
        "fileName = url.split('/')[-1]\n",
        "\n",
        "with urllib.request.urlopen(url) as f:\n",
        "    html = f.read().decode('utf-8')\n"
      ],
      "execution_count": 2,
      "outputs": []
    },
    {
      "cell_type": "code",
      "metadata": {
        "id": "0JN9CaZIMOlE"
      },
      "source": [
        "with open(fileName, \"w\") as f:\n",
        "    f.write(html)"
      ],
      "execution_count": 3,
      "outputs": []
    },
    {
      "cell_type": "code",
      "metadata": {
        "id": "X07Nm4j4MaAc",
        "colab": {
          "base_uri": "https://localhost:8080/"
        },
        "outputId": "13db15fa-7214-4f77-f62f-4e1a4ec77706"
      },
      "source": [
        "# requires svg.path, install it like this: pip3 install svg.path\n",
        "\n",
        "# converts a list of path elements of a SVG file to simple line drawing commands\n",
        "from svg.path import parse_path\n",
        "from svg.path.path import Line\n",
        "from xml.dom import minidom\n",
        "\n",
        "# read the SVG file\n",
        "doc = minidom.parse(fileName)\n",
        "path_strings = [path.getAttribute('d') for path\n",
        "                in doc.getElementsByTagName('path')]\n",
        "\n",
        "# print the line draw commands\n",
        "s = []\n",
        "setOfNames = set()\n",
        "for path in doc.getElementsByTagName('path'):\n",
        "    for d in parse_path(path.getAttribute('d')):\n",
        "        point = d.__dict__\n",
        "        op = d.__class__.__name__\n",
        "        for key in point:\n",
        "            value = point[key]\n",
        "            name = f\"{op}_{key}\"\n",
        "            setOfNames.add(name)\n",
        "            s += [f\"Point({name}, vec2({value.real}, {value.imag}))\"]\n",
        "\n",
        "k = 0\n",
        "var_declarations = []\n",
        "for name in setOfNames:\n",
        "    var_declarations += f\"const int {name} = {k};\\n\"\n",
        "    k += 1\n",
        "\n",
        "sss = \"\".join(var_declarations) + \"\"\"\n",
        "\n",
        "struct Point {\n",
        "    int name;\n",
        "    vec2 point;\n",
        "};\n",
        "\n",
        "Point[] svg = Point[] (\"\"\" + \",\\n\\t\".join(s) + \"\"\"\n",
        ");\"\"\"\n",
        "\n",
        "print(sss)\n",
        "\n",
        "doc.unlink()"
      ],
      "execution_count": 5,
      "outputs": [
        {
          "output_type": "stream",
          "name": "stdout",
          "text": [
            "const int Line_end = 0;\n",
            "const int CubicBezier_control2 = 1;\n",
            "const int Line_start = 2;\n",
            "const int Move_end = 3;\n",
            "const int CubicBezier_end = 4;\n",
            "const int Close_end = 5;\n",
            "const int CubicBezier_start = 6;\n",
            "const int CubicBezier_control1 = 7;\n",
            "const int Close_start = 8;\n",
            "const int Move_start = 9;\n",
            "\n",
            "\n",
            "struct Point {\n",
            "    int name;\n",
            "    vec2 point;\n",
            "};\n",
            "\n",
            "Point[] svg = Point[] (Point(Move_start, vec2(270.08866, 54.482299)),\n",
            "\tPoint(Move_end, vec2(270.08866, 54.482299)),\n",
            "\tPoint(Line_start, vec2(270.08866, 54.482299)),\n",
            "\tPoint(Line_end, vec2(246.53645, 54.482299)),\n",
            "\tPoint(Line_start, vec2(246.53645, 54.482299)),\n",
            "\tPoint(Line_end, vec2(258.31255, 34.085488999999995)),\n",
            "\tPoint(Close_start, vec2(258.31255, 34.085488999999995)),\n",
            "\tPoint(Close_end, vec2(270.08866, 54.482299)),\n",
            "\tPoint(Move_start, vec2(213.60755, 32.822539)),\n",
            "\tPoint(Move_end, vec2(213.60755, 32.822539)),\n",
            "\tPoint(Line_start, vec2(213.60755, 32.822539)),\n",
            "\tPoint(Line_end, vec2(204.18545, 10.425819)),\n",
            "\tPoint(CubicBezier_start, vec2(204.18545, 10.425819)),\n",
            "\tPoint(CubicBezier_control1, vec2(203.79935, 9.4218388)),\n",
            "\tPoint(CubicBezier_control2, vec2(203.79935, 9.4218388)),\n",
            "\tPoint(CubicBezier_end, vec2(202.40925000000001, 9.4218388)),\n",
            "\tPoint(Line_start, vec2(202.40925000000001, 9.4218388)),\n",
            "\tPoint(Line_end, vec2(193.29605, 9.4218388)),\n",
            "\tPoint(CubicBezier_start, vec2(193.29605, 9.4218388)),\n",
            "\tPoint(CubicBezier_control1, vec2(192.36925000000002, 9.4218388)),\n",
            "\tPoint(CubicBezier_control2, vec2(191.67425, 9.4218388)),\n",
            "\tPoint(CubicBezier_end, vec2(191.67425, 10.271369)),\n",
            "\tPoint(CubicBezier_start, vec2(191.67425, 10.271369)),\n",
            "\tPoint(CubicBezier_control1, vec2(191.67425, 11.120889)),\n",
            "\tPoint(CubicBezier_control2, vec2(192.52375, 11.120889)),\n",
            "\tPoint(CubicBezier_end, vec2(192.75545, 11.120889)),\n",
            "\tPoint(CubicBezier_start, vec2(192.75545, 11.120889)),\n",
            "\tPoint(CubicBezier_control1, vec2(193.37324999999998, 11.120889)),\n",
            "\tPoint(CubicBezier_control2, vec2(194.68615, 11.275359)),\n",
            "\tPoint(CubicBezier_end, vec2(195.76745, 11.661499)),\n",
            "\tPoint(Line_start, vec2(195.76745, 11.661499)),\n",
            "\tPoint(Line_end, vec2(195.76745, 37.919729000000004)),\n",
            "\tPoint(CubicBezier_start, vec2(195.76745, 37.919729000000004)),\n",
            "\tPoint(CubicBezier_control1, vec2(195.76745, 39.000939)),\n",
            "\tPoint(CubicBezier_control2, vec2(195.76745, 41.163379000000006)),\n",
            "\tPoint(CubicBezier_end, vec2(192.44655, 41.472309)),\n",
            "\tPoint(CubicBezier_start, vec2(192.44655, 41.472309)),\n",
            "\tPoint(CubicBezier_control1, vec2(191.51975000000002, 41.549509)),\n",
            "\tPoint(CubicBezier_control2, vec2(191.51975000000002, 42.244609000000004)),\n",
            "\tPoint(CubicBezier_end, vec2(191.51975000000002, 42.321849)),\n",
            "\tPoint(CubicBezier_start, vec2(191.51975000000002, 42.321849)),\n",
            "\tPoint(CubicBezier_control1, vec2(191.51975000000002, 43.171369)),\n",
            "\tPoint(CubicBezier_control2, vec2(192.29205000000002, 43.171369)),\n",
            "\tPoint(CubicBezier_end, vec2(193.21885, 43.171369)),\n",
            "\tPoint(Line_start, vec2(193.21885, 43.171369)),\n",
            "\tPoint(Line_end, vec2(200.78735, 43.171369)),\n",
            "\tPoint(CubicBezier_start, vec2(200.78735, 43.171369)),\n",
            "\tPoint(CubicBezier_control1, vec2(201.71415, 43.171369)),\n",
            "\tPoint(CubicBezier_control2, vec2(202.40925000000001, 43.171369)),\n",
            "\tPoint(CubicBezier_end, vec2(202.40925000000001, 42.321849)),\n",
            "\tPoint(CubicBezier_start, vec2(202.40925000000001, 42.321849)),\n",
            "\tPoint(CubicBezier_control1, vec2(202.40925000000001, 41.858469)),\n",
            "\tPoint(CubicBezier_control2, vec2(202.02305, 41.472309)),\n",
            "\tPoint(CubicBezier_end, vec2(201.63695, 41.472309)),\n",
            "\tPoint(CubicBezier_start, vec2(201.63695, 41.472309)),\n",
            "\tPoint(CubicBezier_control1, vec2(197.85265, 41.163379000000006)),\n",
            "\tPoint(CubicBezier_control2, vec2(197.85265, 39.078179000000006)),\n",
            "\tPoint(CubicBezier_end, vec2(197.85265, 37.919729000000004)),\n",
            "\tPoint(Line_start, vec2(197.85265, 37.919729000000004)),\n",
            "\tPoint(Line_end, vec2(197.85265, 13.437799000000005)),\n",
            "\tPoint(Line_start, vec2(197.85265, 13.437799000000005)),\n",
            "\tPoint(Line_end, vec2(197.92965, 13.360599000000006)),\n",
            "\tPoint(Line_start, vec2(197.92965, 13.360599000000006)),\n",
            "\tPoint(Line_end, vec2(209.90025, 42.167409000000006)),\n",
            "\tPoint(CubicBezier_start, vec2(209.90025, 42.167409000000006)),\n",
            "\tPoint(CubicBezier_control1, vec2(210.36365, 43.016949000000004)),\n",
            "\tPoint(CubicBezier_control2, vec2(210.67265, 43.171409000000004)),\n",
            "\tPoint(CubicBezier_end, vec2(210.98155, 43.171409000000004)),\n",
            "\tPoint(CubicBezier_start, vec2(210.98155, 43.171409000000004)),\n",
            "\tPoint(CubicBezier_control1, vec2(211.59935, 43.171409000000004)),\n",
            "\tPoint(CubicBezier_control2, vec2(211.67655, 42.785259)),\n",
            "\tPoint(CubicBezier_end, vec2(211.98555, 42.167409000000006)),\n",
            "\tPoint(Line_start, vec2(211.98555, 42.167409000000006)),\n",
            "\tPoint(Line_end, vec2(224.03345, 13.360599000000008)),\n",
            "\tPoint(Line_start, vec2(224.03345, 13.360599000000008)),\n",
            "\tPoint(Line_end, vec2(224.11045, 13.437799000000007)),\n",
            "\tPoint(Line_start, vec2(224.11045, 13.437799000000007)),\n",
            "\tPoint(Line_end, vec2(224.11045, 37.919729000000004)),\n",
            "\tPoint(CubicBezier_start, vec2(224.11045, 37.919729000000004)),\n",
            "\tPoint(CubicBezier_control1, vec2(224.11045, 39.000939)),\n",
            "\tPoint(CubicBezier_control2, vec2(224.11045, 41.163379000000006)),\n",
            "\tPoint(CubicBezier_end, vec2(220.71224999999998, 41.472309)),\n",
            "\tPoint(CubicBezier_start, vec2(220.71224999999998, 41.472309)),\n",
            "\tPoint(CubicBezier_control1, vec2(219.78554999999997, 41.549509)),\n",
            "\tPoint(CubicBezier_control2, vec2(219.78554999999997, 42.244609000000004)),\n",
            "\tPoint(CubicBezier_end, vec2(219.78554999999997, 42.321849)),\n",
            "\tPoint(CubicBezier_start, vec2(219.78554999999997, 42.321849)),\n",
            "\tPoint(CubicBezier_control1, vec2(219.78554999999997, 43.171369)),\n",
            "\tPoint(CubicBezier_control2, vec2(220.55784999999997, 43.171369)),\n",
            "\tPoint(CubicBezier_end, vec2(221.48464999999996, 43.171369)),\n",
            "\tPoint(Line_start, vec2(221.48464999999996, 43.171369)),\n",
            "\tPoint(Line_end, vec2(234.61374999999995, 43.171369)),\n",
            "\tPoint(CubicBezier_start, vec2(234.61374999999995, 43.171369)),\n",
            "\tPoint(CubicBezier_control1, vec2(235.54044999999996, 43.171369)),\n",
            "\tPoint(CubicBezier_control2, vec2(236.23554999999996, 43.171369)),\n",
            "\tPoint(CubicBezier_end, vec2(236.23554999999996, 42.321849)),\n",
            "\tPoint(CubicBezier_start, vec2(236.23554999999996, 42.321849)),\n",
            "\tPoint(CubicBezier_control1, vec2(236.23554999999996, 41.858469)),\n",
            "\tPoint(CubicBezier_control2, vec2(235.84934999999996, 41.472309)),\n",
            "\tPoint(CubicBezier_end, vec2(235.46324999999996, 41.472309)),\n",
            "\tPoint(CubicBezier_start, vec2(235.46324999999996, 41.472309)),\n",
            "\tPoint(CubicBezier_control1, vec2(231.67894999999996, 41.163379000000006)),\n",
            "\tPoint(CubicBezier_control2, vec2(231.67894999999996, 39.078179000000006)),\n",
            "\tPoint(CubicBezier_end, vec2(231.67894999999996, 37.919729000000004)),\n",
            "\tPoint(Line_start, vec2(231.67894999999996, 37.919729000000004)),\n",
            "\tPoint(Line_end, vec2(231.67894999999996, 14.673489000000004)),\n",
            "\tPoint(CubicBezier_start, vec2(231.67894999999996, 14.673489000000004)),\n",
            "\tPoint(CubicBezier_control1, vec2(231.67894999999996, 13.592259000000004)),\n",
            "\tPoint(CubicBezier_control2, vec2(231.67894999999996, 11.429809000000004)),\n",
            "\tPoint(CubicBezier_end, vec2(234.99984999999995, 11.120889000000004)),\n",
            "\tPoint(CubicBezier_start, vec2(234.99984999999995, 11.120889000000004)),\n",
            "\tPoint(CubicBezier_control1, vec2(235.54044999999996, 11.120889000000004)),\n",
            "\tPoint(CubicBezier_control2, vec2(235.92664999999994, 10.811979000000004)),\n",
            "\tPoint(CubicBezier_end, vec2(235.92664999999994, 10.271369000000004)),\n",
            "\tPoint(CubicBezier_start, vec2(235.92664999999994, 10.271369000000004)),\n",
            "\tPoint(CubicBezier_control1, vec2(235.92664999999994, 9.421838800000003)),\n",
            "\tPoint(CubicBezier_control2, vec2(235.23154999999994, 9.421838800000003)),\n",
            "\tPoint(CubicBezier_end, vec2(234.30474999999993, 9.421838800000003)),\n",
            "\tPoint(Line_start, vec2(234.30474999999993, 9.421838800000003)),\n",
            "\tPoint(Line_end, vec2(224.80544999999992, 9.421838800000003)),\n",
            "\tPoint(CubicBezier_start, vec2(224.80544999999992, 9.421838800000003)),\n",
            "\tPoint(CubicBezier_control1, vec2(223.56984999999992, 9.421838800000003)),\n",
            "\tPoint(CubicBezier_control2, vec2(223.41534999999993, 9.421838800000003)),\n",
            "\tPoint(CubicBezier_end, vec2(223.02914999999993, 10.425819000000004)),\n",
            "\tPoint(Close_start, vec2(223.02914999999993, 10.425819000000004)),\n",
            "\tPoint(Close_end, vec2(213.60755, 32.822539)),\n",
            "\tPoint(Move_start, vec2(212.14015, 33.749309)),\n",
            "\tPoint(Move_end, vec2(212.14015, 33.749309)),\n",
            "\tPoint(CubicBezier_start, vec2(212.14015, 33.749309)),\n",
            "\tPoint(CubicBezier_control1, vec2(212.52635, 34.521598999999995)),\n",
            "\tPoint(CubicBezier_control2, vec2(212.60355, 34.598828999999995)),\n",
            "\tPoint(CubicBezier_end, vec2(213.22145, 34.830518999999995)),\n",
            "\tPoint(Line_start, vec2(213.22145, 34.830518999999995)),\n",
            "\tPoint(Line_end, vec2(210.98175, 40.004929)),\n",
            "\tPoint(Line_start, vec2(210.98175, 40.004929)),\n",
            "\tPoint(Line_end, vec2(210.90475, 40.004929)),\n",
            "\tPoint(Line_start, vec2(210.90475, 40.004929)),\n",
            "\tPoint(Line_end, vec2(199.70635000000001, 13.206108999999998)),\n",
            "\tPoint(CubicBezier_start, vec2(199.70635000000001, 13.206108999999998)),\n",
            "\tPoint(CubicBezier_control1, vec2(199.47465000000003, 12.588258999999997)),\n",
            "\tPoint(CubicBezier_control2, vec2(199.01125000000002, 11.738738999999997)),\n",
            "\tPoint(CubicBezier_end, vec2(198.39345, 11.120888999999998)),\n",
            "\tPoint(Line_start, vec2(198.39345, 11.120888999999998)),\n",
            "\tPoint(Line_end, vec2(202.64115, 11.120888999999998)),\n",
            "\tPoint(Close_start, vec2(202.64115, 11.120888999999998)),\n",
            "\tPoint(Close_end, vec2(212.14015, 33.749309)),\n",
            "\tPoint(Move_start, vec2(225.80995000000001, 11.120888999999998)),\n",
            "\tPoint(Move_end, vec2(225.80995000000001, 11.120888999999998)),\n",
            "\tPoint(Line_start, vec2(225.80995000000001, 11.120888999999998)),\n",
            "\tPoint(Line_end, vec2(231.06155, 11.120888999999998)),\n",
            "\tPoint(CubicBezier_start, vec2(231.06155, 11.120888999999998)),\n",
            "\tPoint(CubicBezier_control1, vec2(229.90305, 12.356568999999999)),\n",
            "\tPoint(CubicBezier_control2, vec2(229.90305, 13.669488999999999)),\n",
            "\tPoint(CubicBezier_end, vec2(229.90305, 14.519018999999998)),\n",
            "\tPoint(Line_start, vec2(229.90305, 14.519018999999998)),\n",
            "\tPoint(Line_end, vec2(229.90305, 38.074179)),\n",
            "\tPoint(CubicBezier_start, vec2(229.90305, 38.074179)),\n",
            "\tPoint(CubicBezier_control1, vec2(229.90305, 38.923719)),\n",
            "\tPoint(CubicBezier_control2, vec2(229.90305, 40.236619000000005)),\n",
            "\tPoint(CubicBezier_end, vec2(231.06155, 41.472309)),\n",
            "\tPoint(Line_start, vec2(231.06155, 41.472309)),\n",
            "\tPoint(Line_end, vec2(224.72865000000002, 41.472309)),\n",
            "\tPoint(CubicBezier_start, vec2(224.72865000000002, 41.472309)),\n",
            "\tPoint(CubicBezier_control1, vec2(225.80995000000001, 40.236619000000005)),\n",
            "\tPoint(CubicBezier_control2, vec2(225.80995000000001, 38.923719000000006)),\n",
            "\tPoint(CubicBezier_end, vec2(225.80995000000001, 38.074179)),\n",
            "\tPoint(Close_start, vec2(225.80995000000001, 38.074179)),\n",
            "\tPoint(Close_end, vec2(225.80995000000001, 11.120888999999998))\n",
            ");\n"
          ]
        }
      ]
    },
    {
      "cell_type": "code",
      "metadata": {
        "id": "bnt6Ku3LswRg"
      },
      "source": [
        "print(doc)"
      ],
      "execution_count": null,
      "outputs": []
    },
    {
      "cell_type": "code",
      "metadata": {
        "id": "sko-1bS2NbQw"
      },
      "source": [
        ""
      ],
      "execution_count": null,
      "outputs": []
    },
    {
      "cell_type": "code",
      "metadata": {
        "id": "M0xgBcvwNVpi"
      },
      "source": [
        "# requires svg.path, install it like this: pip3 install svg.path\n",
        "\n",
        "# converts a list of path elements of a SVG file to simple line drawing commands\n",
        "from svg.path import parse_path\n",
        "from svg.path.path import Line\n",
        "from xml.dom import minidom\n",
        "\n",
        "# read the SVG file\n",
        "doc = minidom.parse(fileName)\n",
        "path_strings = [path.getAttribute('d') for path\n",
        "                in doc.getElementsByTagName('path')]\n",
        "\n",
        "# print the line draw commands\n",
        "for path in doc.getElementsByTagName('path'):\n",
        "    for d in parse_path(path.getAttribute('d')):\n",
        "        \n",
        "        print(d)\n",
        "\n",
        "doc.unlink()"
      ],
      "execution_count": null,
      "outputs": []
    },
    {
      "cell_type": "code",
      "metadata": {
        "id": "I0YPJaXO1_CM"
      },
      "source": [
        "!pip install PyOpenGL PyOpenGL_accelerate"
      ],
      "execution_count": null,
      "outputs": []
    },
    {
      "cell_type": "code",
      "metadata": {
        "id": "6r65F1IMKufS"
      },
      "source": [
        "from OpenGL.GL import *\n",
        "from OpenGL.GLUT import *\n",
        "from OpenGL.GLU import *\n",
        "\n",
        "w, h = 500,500\n",
        "\n",
        "# ---Section 1---\n",
        "def square():\n",
        "    # We have to declare the points in this sequence: bottom left, bottom right, top right, top left\n",
        "    glBegin(GL_QUADS) # Begin the sketch\n",
        "    glVertex2f(100, 100) # Coordinates for the bottom left point\n",
        "    glVertex2f(200, 100) # Coordinates for the bottom right point\n",
        "    glVertex2f(200, 200) # Coordinates for the top right point\n",
        "    glVertex2f(100, 200) # Coordinates for the top left point\n",
        "    glEnd() # Mark the end of drawing\n",
        "\n",
        "# This alone isn't enough to draw our square\n",
        "\n",
        "# ---Section 2---\n",
        "\n",
        "def showScreen():\n",
        "    glClear(GL_COLOR_BUFFER_BIT | GL_DEPTH_BUFFER_BIT) # Remove everything from screen (i.e. displays all white)\n",
        "    glLoadIdentity() # Reset all graphic/shape's position\n",
        "    square() # Draw a square using our function\n",
        "    glutSwapBuffers()\n",
        "\n",
        "#---Section 3---\n",
        "\n",
        "glutInit()\n",
        "glutInitDisplayMode(GLUT_RGBA) # Set the display mode to be colored\n",
        "glutInitWindowSize(500, 500)   # Set the w and h of your window\n",
        "glutInitWindowPosition(0, 0)   # Set the position at which this windows should appear\n",
        "wind = glutCreateWindow(\"OpenGL Coding Practice\") # Set a window title\n",
        "glutDisplayFunc(showScreen)\n",
        "glutIdleFunc(showScreen) # Keeps the window open\n",
        "glutMainLoop()  # Keeps the above created window displaying/running in a loop"
      ],
      "execution_count": null,
      "outputs": []
    },
    {
      "cell_type": "code",
      "metadata": {
        "id": "K2QqlH0eLIHY"
      },
      "source": [
        "glColor3f(1.0, 0.0, 3.0) # Set the color to pink"
      ],
      "execution_count": null,
      "outputs": []
    }
  ]
}