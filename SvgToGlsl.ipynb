{
  "nbformat": 4,
  "nbformat_minor": 0,
  "metadata": {
    "colab": {
      "name": "SvgToGlsl.ipynb",
      "provenance": [],
      "authorship_tag": "ABX9TyOygABs/rhAJHzWnAjlIO0W",
      "include_colab_link": true
    },
    "kernelspec": {
      "name": "python3",
      "display_name": "Python 3"
    },
    "language_info": {
      "name": "python"
    }
  },
  "cells": [
    {
      "cell_type": "markdown",
      "metadata": {
        "id": "view-in-github",
        "colab_type": "text"
      },
      "source": [
        "<a href=\"https://colab.research.google.com/github/LRacoci/svg-to-glsl/blob/main/SvgToGlsl.ipynb\" target=\"_parent\"><img src=\"https://colab.research.google.com/assets/colab-badge.svg\" alt=\"Open In Colab\"/></a>"
      ]
    },
    {
      "cell_type": "code",
      "metadata": {
        "colab": {
          "base_uri": "https://localhost:8080/"
        },
        "id": "Me55gWmmg4jE",
        "outputId": "b48d8ecb-eba2-45f6-fb65-e98caa6b94f7"
      },
      "source": [
        "!pip install svg.path"
      ],
      "execution_count": 7,
      "outputs": [
        {
          "output_type": "stream",
          "name": "stdout",
          "text": [
            "Requirement already satisfied: svg.path in /usr/local/lib/python3.7/dist-packages (4.1)\n"
          ]
        }
      ]
    },
    {
      "cell_type": "code",
      "metadata": {
        "id": "PhNdEE0VCJhI"
      },
      "source": [
        "import urllib.request\n",
        "from xml.dom import minidom\n",
        "url = \"https://docs.manim.community/en/v0.1.1/_static/manim-logo-sidebar.svg\"\n",
        "\n",
        "fileName = url.split('/')[-1]\n",
        "\n",
        "with urllib.request.urlopen(url) as f:\n",
        "    html = f.read().decode('utf-8')\n"
      ],
      "execution_count": 8,
      "outputs": []
    },
    {
      "cell_type": "code",
      "metadata": {
        "id": "0JN9CaZIMOlE"
      },
      "source": [
        "with open(fileName, \"w\") as f:\n",
        "    f.write(html)"
      ],
      "execution_count": 9,
      "outputs": []
    },
    {
      "cell_type": "code",
      "metadata": {
        "id": "X07Nm4j4MaAc"
      },
      "source": [
        "doc = minidom.parse(fileName)  # parseString also exists\n",
        "for path in doc.getElementsByTagName('path'):\n",
        "    pathD = path.getAttribute('d')\n",
        "    print(pathD)\n",
        "    for x in pathD.split(\" \"):\n",
        "        print(f\"\\t{x}\")\n"
      ],
      "execution_count": null,
      "outputs": []
    },
    {
      "cell_type": "code",
      "metadata": {
        "colab": {
          "base_uri": "https://localhost:8080/"
        },
        "id": "bnt6Ku3LswRg",
        "outputId": "fe9a01a5-962d-478f-861e-e02f076fcf76"
      },
      "source": [
        "print(doc)"
      ],
      "execution_count": 5,
      "outputs": [
        {
          "output_type": "stream",
          "name": "stdout",
          "text": [
            "<xml.dom.minidom.Document object at 0x7f46e2128bb0>\n"
          ]
        }
      ]
    },
    {
      "cell_type": "code",
      "metadata": {
        "colab": {
          "base_uri": "https://localhost:8080/"
        },
        "id": "sko-1bS2NbQw",
        "outputId": "89adc8be-8d23-4124-f2f3-b4dc93bf0ef1"
      },
      "source": [
        ""
      ],
      "execution_count": 4,
      "outputs": [
        {
          "output_type": "stream",
          "name": "stdout",
          "text": [
            "Collecting svg.path\n",
            "  Downloading svg.path-4.1-py2.py3-none-any.whl (21 kB)\n",
            "Installing collected packages: svg.path\n",
            "Successfully installed svg.path-4.1\n"
          ]
        }
      ]
    },
    {
      "cell_type": "code",
      "metadata": {
        "colab": {
          "base_uri": "https://localhost:8080/"
        },
        "id": "M0xgBcvwNVpi",
        "outputId": "bf89bb85-1ce1-41c5-e720-27c099d54a3c"
      },
      "source": [
        "# requires svg.path, install it like this: pip3 install svg.path\n",
        "\n",
        "# converts a list of path elements of a SVG file to simple line drawing commands\n",
        "from svg.path import parse_path\n",
        "from svg.path.path import Line\n",
        "from xml.dom import minidom\n",
        "\n",
        "# read the SVG file\n",
        "doc = minidom.parse(fileName)\n",
        "path_strings = [path.getAttribute('d') for path\n",
        "                in doc.getElementsByTagName('path')]\n",
        "\n",
        "# print the line draw commands\n",
        "for path in doc.getElementsByTagName('path'):\n",
        "    for d in parse_path(path.getAttribute('d')):\n",
        "        \n",
        "        print(d)\n",
        "\n",
        "doc.unlink()"
      ],
      "execution_count": 21,
      "outputs": [
        {
          "output_type": "stream",
          "name": "stdout",
          "text": [
            "Move(to=(270.08866+54.482299j))\n",
            "Line(start=(270.08866+54.482299j), end=(246.53645+54.482299j))\n",
            "Line(start=(246.53645+54.482299j), end=(258.31255+34.085488999999995j))\n",
            "Close(start=(258.31255+34.085488999999995j), end=(270.08866+54.482299j))\n",
            "Move(to=(213.60755+32.822539j))\n",
            "Line(start=(213.60755+32.822539j), end=(204.18545+10.425819j))\n",
            "CubicBezier(start=(204.18545+10.425819j), control1=(203.79935+9.4218388j), control2=(203.79935+9.4218388j), end=(202.40925000000001+9.4218388j))\n",
            "Line(start=(202.40925000000001+9.4218388j), end=(193.29605+9.4218388j))\n",
            "CubicBezier(start=(193.29605+9.4218388j), control1=(192.36925000000002+9.4218388j), control2=(191.67425+9.4218388j), end=(191.67425+10.271369j))\n",
            "CubicBezier(start=(191.67425+10.271369j), control1=(191.67425+11.120889j), control2=(192.52375+11.120889j), end=(192.75545+11.120889j))\n",
            "CubicBezier(start=(192.75545+11.120889j), control1=(193.37324999999998+11.120889j), control2=(194.68615+11.275359j), end=(195.76745+11.661499j))\n",
            "Line(start=(195.76745+11.661499j), end=(195.76745+37.919729000000004j))\n",
            "CubicBezier(start=(195.76745+37.919729000000004j), control1=(195.76745+39.000939j), control2=(195.76745+41.163379000000006j), end=(192.44655+41.472309j))\n",
            "CubicBezier(start=(192.44655+41.472309j), control1=(191.51975000000002+41.549509j), control2=(191.51975000000002+42.244609000000004j), end=(191.51975000000002+42.321849j))\n",
            "CubicBezier(start=(191.51975000000002+42.321849j), control1=(191.51975000000002+43.171369j), control2=(192.29205000000002+43.171369j), end=(193.21885+43.171369j))\n",
            "Line(start=(193.21885+43.171369j), end=(200.78735+43.171369j))\n",
            "CubicBezier(start=(200.78735+43.171369j), control1=(201.71415+43.171369j), control2=(202.40925000000001+43.171369j), end=(202.40925000000001+42.321849j))\n",
            "CubicBezier(start=(202.40925000000001+42.321849j), control1=(202.40925000000001+41.858469j), control2=(202.02305+41.472309j), end=(201.63695+41.472309j))\n",
            "CubicBezier(start=(201.63695+41.472309j), control1=(197.85265+41.163379000000006j), control2=(197.85265+39.078179000000006j), end=(197.85265+37.919729000000004j))\n",
            "Line(start=(197.85265+37.919729000000004j), end=(197.85265+13.437799000000005j))\n",
            "Line(start=(197.85265+13.437799000000005j), end=(197.92965+13.360599000000006j))\n",
            "Line(start=(197.92965+13.360599000000006j), end=(209.90025+42.167409000000006j))\n",
            "CubicBezier(start=(209.90025+42.167409000000006j), control1=(210.36365+43.016949000000004j), control2=(210.67265+43.171409000000004j), end=(210.98155+43.171409000000004j))\n",
            "CubicBezier(start=(210.98155+43.171409000000004j), control1=(211.59935+43.171409000000004j), control2=(211.67655+42.785259j), end=(211.98555+42.167409000000006j))\n",
            "Line(start=(211.98555+42.167409000000006j), end=(224.03345+13.360599000000008j))\n",
            "Line(start=(224.03345+13.360599000000008j), end=(224.11045+13.437799000000007j))\n",
            "Line(start=(224.11045+13.437799000000007j), end=(224.11045+37.919729000000004j))\n",
            "CubicBezier(start=(224.11045+37.919729000000004j), control1=(224.11045+39.000939j), control2=(224.11045+41.163379000000006j), end=(220.71224999999998+41.472309j))\n",
            "CubicBezier(start=(220.71224999999998+41.472309j), control1=(219.78554999999997+41.549509j), control2=(219.78554999999997+42.244609000000004j), end=(219.78554999999997+42.321849j))\n",
            "CubicBezier(start=(219.78554999999997+42.321849j), control1=(219.78554999999997+43.171369j), control2=(220.55784999999997+43.171369j), end=(221.48464999999996+43.171369j))\n",
            "Line(start=(221.48464999999996+43.171369j), end=(234.61374999999995+43.171369j))\n",
            "CubicBezier(start=(234.61374999999995+43.171369j), control1=(235.54044999999996+43.171369j), control2=(236.23554999999996+43.171369j), end=(236.23554999999996+42.321849j))\n",
            "CubicBezier(start=(236.23554999999996+42.321849j), control1=(236.23554999999996+41.858469j), control2=(235.84934999999996+41.472309j), end=(235.46324999999996+41.472309j))\n",
            "CubicBezier(start=(235.46324999999996+41.472309j), control1=(231.67894999999996+41.163379000000006j), control2=(231.67894999999996+39.078179000000006j), end=(231.67894999999996+37.919729000000004j))\n",
            "Line(start=(231.67894999999996+37.919729000000004j), end=(231.67894999999996+14.673489000000004j))\n",
            "CubicBezier(start=(231.67894999999996+14.673489000000004j), control1=(231.67894999999996+13.592259000000004j), control2=(231.67894999999996+11.429809000000004j), end=(234.99984999999995+11.120889000000004j))\n",
            "CubicBezier(start=(234.99984999999995+11.120889000000004j), control1=(235.54044999999996+11.120889000000004j), control2=(235.92664999999994+10.811979000000004j), end=(235.92664999999994+10.271369000000004j))\n",
            "CubicBezier(start=(235.92664999999994+10.271369000000004j), control1=(235.92664999999994+9.421838800000003j), control2=(235.23154999999994+9.421838800000003j), end=(234.30474999999993+9.421838800000003j))\n",
            "Line(start=(234.30474999999993+9.421838800000003j), end=(224.80544999999992+9.421838800000003j))\n",
            "CubicBezier(start=(224.80544999999992+9.421838800000003j), control1=(223.56984999999992+9.421838800000003j), control2=(223.41534999999993+9.421838800000003j), end=(223.02914999999993+10.425819000000004j))\n",
            "Close(start=(223.02914999999993+10.425819000000004j), end=(213.60755+32.822539j))\n",
            "Move(to=(212.14015+33.749309j))\n",
            "CubicBezier(start=(212.14015+33.749309j), control1=(212.52635+34.521598999999995j), control2=(212.60355+34.598828999999995j), end=(213.22145+34.830518999999995j))\n",
            "Line(start=(213.22145+34.830518999999995j), end=(210.98175+40.004929j))\n",
            "Line(start=(210.98175+40.004929j), end=(210.90475+40.004929j))\n",
            "Line(start=(210.90475+40.004929j), end=(199.70635000000001+13.206108999999998j))\n",
            "CubicBezier(start=(199.70635000000001+13.206108999999998j), control1=(199.47465000000003+12.588258999999997j), control2=(199.01125000000002+11.738738999999997j), end=(198.39345+11.120888999999998j))\n",
            "Line(start=(198.39345+11.120888999999998j), end=(202.64115+11.120888999999998j))\n",
            "Close(start=(202.64115+11.120888999999998j), end=(212.14015+33.749309j))\n",
            "Move(to=(225.80995000000001+11.120888999999998j))\n",
            "Line(start=(225.80995000000001+11.120888999999998j), end=(231.06155+11.120888999999998j))\n",
            "CubicBezier(start=(231.06155+11.120888999999998j), control1=(229.90305+12.356568999999999j), control2=(229.90305+13.669488999999999j), end=(229.90305+14.519018999999998j))\n",
            "Line(start=(229.90305+14.519018999999998j), end=(229.90305+38.074179j))\n",
            "CubicBezier(start=(229.90305+38.074179j), control1=(229.90305+38.923719j), control2=(229.90305+40.236619000000005j), end=(231.06155+41.472309j))\n",
            "Line(start=(231.06155+41.472309j), end=(224.72865000000002+41.472309j))\n",
            "CubicBezier(start=(224.72865000000002+41.472309j), control1=(225.80995000000001+40.236619000000005j), control2=(225.80995000000001+38.923719000000006j), end=(225.80995000000001+38.074179j))\n",
            "Close(start=(225.80995000000001+38.074179j), end=(225.80995000000001+11.120888999999998j))\n",
            "Move(to=(270.08866+54.482299j))\n",
            "Line(start=(270.08866+54.482299j), end=(246.53645+54.482299j))\n",
            "Line(start=(246.53645+54.482299j), end=(258.31255+34.085488999999995j))\n",
            "Close(start=(258.31255+34.085488999999995j), end=(270.08866+54.482299j))\n",
            "Move(to=(213.60755+32.822539j))\n",
            "Line(start=(213.60755+32.822539j), end=(204.18545+10.425819j))\n",
            "CubicBezier(start=(204.18545+10.425819j), control1=(203.79935+9.4218388j), control2=(203.79935+9.4218388j), end=(202.40925000000001+9.4218388j))\n",
            "Line(start=(202.40925000000001+9.4218388j), end=(193.29605+9.4218388j))\n",
            "CubicBezier(start=(193.29605+9.4218388j), control1=(192.36925000000002+9.4218388j), control2=(191.67425+9.4218388j), end=(191.67425+10.271369j))\n",
            "CubicBezier(start=(191.67425+10.271369j), control1=(191.67425+11.120889j), control2=(192.52375+11.120889j), end=(192.75545+11.120889j))\n",
            "CubicBezier(start=(192.75545+11.120889j), control1=(193.37324999999998+11.120889j), control2=(194.68615+11.275359j), end=(195.76745+11.661499j))\n",
            "Line(start=(195.76745+11.661499j), end=(195.76745+37.919729000000004j))\n",
            "CubicBezier(start=(195.76745+37.919729000000004j), control1=(195.76745+39.000939j), control2=(195.76745+41.163379000000006j), end=(192.44655+41.472309j))\n",
            "CubicBezier(start=(192.44655+41.472309j), control1=(191.51975000000002+41.549509j), control2=(191.51975000000002+42.244609000000004j), end=(191.51975000000002+42.321849j))\n",
            "CubicBezier(start=(191.51975000000002+42.321849j), control1=(191.51975000000002+43.171369j), control2=(192.29205000000002+43.171369j), end=(193.21885+43.171369j))\n",
            "Line(start=(193.21885+43.171369j), end=(200.78735+43.171369j))\n",
            "CubicBezier(start=(200.78735+43.171369j), control1=(201.71415+43.171369j), control2=(202.40925000000001+43.171369j), end=(202.40925000000001+42.321849j))\n",
            "CubicBezier(start=(202.40925000000001+42.321849j), control1=(202.40925000000001+41.858469j), control2=(202.02305+41.472309j), end=(201.63695+41.472309j))\n",
            "CubicBezier(start=(201.63695+41.472309j), control1=(197.85265+41.163379000000006j), control2=(197.85265+39.078179000000006j), end=(197.85265+37.919729000000004j))\n",
            "Line(start=(197.85265+37.919729000000004j), end=(197.85265+13.437799000000005j))\n",
            "Line(start=(197.85265+13.437799000000005j), end=(197.92965+13.360599000000006j))\n",
            "Line(start=(197.92965+13.360599000000006j), end=(209.90025+42.167409000000006j))\n",
            "CubicBezier(start=(209.90025+42.167409000000006j), control1=(210.36365+43.016949000000004j), control2=(210.67265+43.171409000000004j), end=(210.98155+43.171409000000004j))\n",
            "CubicBezier(start=(210.98155+43.171409000000004j), control1=(211.59935+43.171409000000004j), control2=(211.67655+42.785259j), end=(211.98555+42.167409000000006j))\n",
            "Line(start=(211.98555+42.167409000000006j), end=(224.03345+13.360599000000008j))\n",
            "Line(start=(224.03345+13.360599000000008j), end=(224.11045+13.437799000000007j))\n",
            "Line(start=(224.11045+13.437799000000007j), end=(224.11045+37.919729000000004j))\n",
            "CubicBezier(start=(224.11045+37.919729000000004j), control1=(224.11045+39.000939j), control2=(224.11045+41.163379000000006j), end=(220.71224999999998+41.472309j))\n",
            "CubicBezier(start=(220.71224999999998+41.472309j), control1=(219.78554999999997+41.549509j), control2=(219.78554999999997+42.244609000000004j), end=(219.78554999999997+42.321849j))\n",
            "CubicBezier(start=(219.78554999999997+42.321849j), control1=(219.78554999999997+43.171369j), control2=(220.55784999999997+43.171369j), end=(221.48464999999996+43.171369j))\n",
            "Line(start=(221.48464999999996+43.171369j), end=(234.61374999999995+43.171369j))\n",
            "CubicBezier(start=(234.61374999999995+43.171369j), control1=(235.54044999999996+43.171369j), control2=(236.23554999999996+43.171369j), end=(236.23554999999996+42.321849j))\n",
            "CubicBezier(start=(236.23554999999996+42.321849j), control1=(236.23554999999996+41.858469j), control2=(235.84934999999996+41.472309j), end=(235.46324999999996+41.472309j))\n",
            "CubicBezier(start=(235.46324999999996+41.472309j), control1=(231.67894999999996+41.163379000000006j), control2=(231.67894999999996+39.078179000000006j), end=(231.67894999999996+37.919729000000004j))\n",
            "Line(start=(231.67894999999996+37.919729000000004j), end=(231.67894999999996+14.673489000000004j))\n",
            "CubicBezier(start=(231.67894999999996+14.673489000000004j), control1=(231.67894999999996+13.592259000000004j), control2=(231.67894999999996+11.429809000000004j), end=(234.99984999999995+11.120889000000004j))\n",
            "CubicBezier(start=(234.99984999999995+11.120889000000004j), control1=(235.54044999999996+11.120889000000004j), control2=(235.92664999999994+10.811979000000004j), end=(235.92664999999994+10.271369000000004j))\n",
            "CubicBezier(start=(235.92664999999994+10.271369000000004j), control1=(235.92664999999994+9.421838800000003j), control2=(235.23154999999994+9.421838800000003j), end=(234.30474999999993+9.421838800000003j))\n",
            "Line(start=(234.30474999999993+9.421838800000003j), end=(224.80544999999992+9.421838800000003j))\n",
            "CubicBezier(start=(224.80544999999992+9.421838800000003j), control1=(223.56984999999992+9.421838800000003j), control2=(223.41534999999993+9.421838800000003j), end=(223.02914999999993+10.425819000000004j))\n",
            "Close(start=(223.02914999999993+10.425819000000004j), end=(213.60755+32.822539j))\n",
            "Move(to=(212.14015+33.749309j))\n",
            "CubicBezier(start=(212.14015+33.749309j), control1=(212.52635+34.521598999999995j), control2=(212.60355+34.598828999999995j), end=(213.22145+34.830518999999995j))\n",
            "Line(start=(213.22145+34.830518999999995j), end=(210.98175+40.004929j))\n",
            "Line(start=(210.98175+40.004929j), end=(210.90475+40.004929j))\n",
            "Line(start=(210.90475+40.004929j), end=(199.70635000000001+13.206108999999998j))\n",
            "CubicBezier(start=(199.70635000000001+13.206108999999998j), control1=(199.47465000000003+12.588258999999997j), control2=(199.01125000000002+11.738738999999997j), end=(198.39345+11.120888999999998j))\n",
            "Line(start=(198.39345+11.120888999999998j), end=(202.64115+11.120888999999998j))\n",
            "Close(start=(202.64115+11.120888999999998j), end=(212.14015+33.749309j))\n",
            "Move(to=(225.80995000000001+11.120888999999998j))\n",
            "Line(start=(225.80995000000001+11.120888999999998j), end=(231.06155+11.120888999999998j))\n",
            "CubicBezier(start=(231.06155+11.120888999999998j), control1=(229.90305+12.356568999999999j), control2=(229.90305+13.669488999999999j), end=(229.90305+14.519018999999998j))\n",
            "Line(start=(229.90305+14.519018999999998j), end=(229.90305+38.074179j))\n",
            "CubicBezier(start=(229.90305+38.074179j), control1=(229.90305+38.923719j), control2=(229.90305+40.236619000000005j), end=(231.06155+41.472309j))\n",
            "Line(start=(231.06155+41.472309j), end=(224.72865000000002+41.472309j))\n",
            "CubicBezier(start=(224.72865000000002+41.472309j), control1=(225.80995000000001+40.236619000000005j), control2=(225.80995000000001+38.923719000000006j), end=(225.80995000000001+38.074179j))\n",
            "Close(start=(225.80995000000001+38.074179j), end=(225.80995000000001+11.120888999999998j))\n"
          ]
        }
      ]
    },
    {
      "cell_type": "code",
      "metadata": {
        "colab": {
          "base_uri": "https://localhost:8080/"
        },
        "id": "I0YPJaXO1_CM",
        "outputId": "ce46da95-9f9b-436b-8999-b4df928b8593"
      },
      "source": [
        "!pip install PyOpenGL PyOpenGL_accelerate"
      ],
      "execution_count": 2,
      "outputs": [
        {
          "output_type": "stream",
          "name": "stdout",
          "text": [
            "Requirement already satisfied: PyOpenGL in /usr/local/lib/python3.7/dist-packages (3.1.5)\n",
            "Requirement already satisfied: PyOpenGL_accelerate in /usr/local/lib/python3.7/dist-packages (3.1.5)\n"
          ]
        }
      ]
    },
    {
      "cell_type": "code",
      "metadata": {
        "id": "6r65F1IMKufS"
      },
      "source": [
        "from OpenGL.GL import *\n",
        "from OpenGL.GLUT import *\n",
        "from OpenGL.GLU import *\n",
        "\n",
        "w, h = 500,500\n",
        "\n",
        "# ---Section 1---\n",
        "def square():\n",
        "    # We have to declare the points in this sequence: bottom left, bottom right, top right, top left\n",
        "    glBegin(GL_QUADS) # Begin the sketch\n",
        "    glVertex2f(100, 100) # Coordinates for the bottom left point\n",
        "    glVertex2f(200, 100) # Coordinates for the bottom right point\n",
        "    glVertex2f(200, 200) # Coordinates for the top right point\n",
        "    glVertex2f(100, 200) # Coordinates for the top left point\n",
        "    glEnd() # Mark the end of drawing\n",
        "\n",
        "# This alone isn't enough to draw our square\n",
        "\n",
        "# ---Section 2---\n",
        "\n",
        "def showScreen():\n",
        "    glClear(GL_COLOR_BUFFER_BIT | GL_DEPTH_BUFFER_BIT) # Remove everything from screen (i.e. displays all white)\n",
        "    glLoadIdentity() # Reset all graphic/shape's position\n",
        "    square() # Draw a square using our function\n",
        "    glutSwapBuffers()\n",
        "\n",
        "#---Section 3---\n",
        "\n",
        "glutInit()\n",
        "glutInitDisplayMode(GLUT_RGBA) # Set the display mode to be colored\n",
        "glutInitWindowSize(500, 500)   # Set the w and h of your window\n",
        "glutInitWindowPosition(0, 0)   # Set the position at which this windows should appear\n",
        "wind = glutCreateWindow(\"OpenGL Coding Practice\") # Set a window title\n",
        "glutDisplayFunc(showScreen)\n",
        "glutIdleFunc(showScreen) # Keeps the window open\n",
        "glutMainLoop()  # Keeps the above created window displaying/running in a loop"
      ],
      "execution_count": null,
      "outputs": []
    },
    {
      "cell_type": "code",
      "metadata": {
        "colab": {
          "base_uri": "https://localhost:8080/",
          "height": 171
        },
        "id": "K2QqlH0eLIHY",
        "outputId": "d71e4f32-29a3-4a3b-8f9d-6d99b1982ce8"
      },
      "source": [
        "glColor3f(1.0, 0.0, 3.0) # Set the color to pink"
      ],
      "execution_count": 1,
      "outputs": [
        {
          "output_type": "error",
          "ename": "NameError",
          "evalue": "ignored",
          "traceback": [
            "\u001b[0;31m---------------------------------------------------------------------------\u001b[0m",
            "\u001b[0;31mNameError\u001b[0m                                 Traceback (most recent call last)",
            "\u001b[0;32m<ipython-input-1-f46623688284>\u001b[0m in \u001b[0;36m<module>\u001b[0;34m()\u001b[0m\n\u001b[0;32m----> 1\u001b[0;31m \u001b[0mglColor3f\u001b[0m\u001b[0;34m(\u001b[0m\u001b[0;36m1.0\u001b[0m\u001b[0;34m,\u001b[0m \u001b[0;36m0.0\u001b[0m\u001b[0;34m,\u001b[0m \u001b[0;36m3.0\u001b[0m\u001b[0;34m)\u001b[0m \u001b[0;31m# Set the color to pink\u001b[0m\u001b[0;34m\u001b[0m\u001b[0;34m\u001b[0m\u001b[0m\n\u001b[0m",
            "\u001b[0;31mNameError\u001b[0m: name 'glColor3f' is not defined"
          ]
        }
      ]
    }
  ]
}